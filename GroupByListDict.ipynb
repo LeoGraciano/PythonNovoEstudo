{
 "metadata": {
  "language_info": {
   "codemirror_mode": {
    "name": "ipython",
    "version": 3
   },
   "file_extension": ".py",
   "mimetype": "text/x-python",
   "name": "python",
   "nbconvert_exporter": "python",
   "pygments_lexer": "ipython3",
   "version": "3.8.5-final"
  },
  "orig_nbformat": 2,
  "kernelspec": {
   "name": "python3",
   "display_name": "Python 3",
   "language": "python"
  }
 },
 "nbformat": 4,
 "nbformat_minor": 2,
 "cells": [
  {
   "cell_type": "code",
   "execution_count": null,
   "metadata": {},
   "outputs": [],
   "source": [
    "from itertools import groupby,tee\n",
    "\n",
    "alunos = [\n",
    "    {'nome': \"Leonardo\",\"nota\":\"A\"},\n",
    "    {'nome': \"Jessica\",\"nota\":\"A\"},\n",
    "    {'nome': \"Luiz\",\"nota\":\"D\"},\n",
    "    {'nome': \"Fernando\",\"nota\":\"C\"},\n",
    "    {'nome': \"Maria\",\"nota\":\"B\"},\n",
    "    {'nome': \"João\",\"nota\":\"C\"},\n",
    "    {'nome': \"Paulo\",\"nota\":\"B\"},\n",
    "    {'nome': \"Juliana\",\"nota\":\"B\"},\n",
    "]"
   ]
  },
  {
   "cell_type": "code",
   "execution_count": null,
   "metadata": {},
   "outputs": [],
   "source": [
    "orderna = lambda item: item['nota']\n",
    "alunos.sort(key=orderna)\n",
    "print(alunos)"
   ]
  },
  {
   "cell_type": "code",
   "execution_count": null,
   "metadata": {},
   "outputs": [],
   "source": [
    "for aluno in alunos:\n",
    "    print(aluno)"
   ]
  },
  {
   "cell_type": "code",
   "execution_count": null,
   "metadata": {},
   "outputs": [],
   "source": [
    "alunos_agrupados = groupby(alunos,orderna)\n",
    "for agrupamento, valores_agrumandos in alunos_agrupados:\n",
    "    print(f'Agrupamento: {agrupamento}')\n",
    "    for aluno in valores_agrumandos:\n",
    "        print(aluno)\n",
    "    quantidade = len(list(valores_agrumandos))\n",
    "    print(f\"\\t{quantidade} alunos tiraram a nota {agrupamento}\")\n",
    "print()"
   ]
  },
  {
   "cell_type": "code",
   "execution_count": null,
   "metadata": {},
   "outputs": [],
   "source": [
    "alunos_agrupados = groupby(alunos,orderna)\n",
    "for agrupamento, valores_agrumandos in alunos_agrupados:\n",
    "    var1,var2 = tee(valores_agrumandos)\n",
    "    \n",
    "    print(f'Agrupamento: {agrupamento}')\n",
    "    for aluno in var1:\n",
    "        print(aluno)\n",
    "\n",
    "    quantidade = len(list(var2))\n",
    "    print(f\"\\t{quantidade} alunos tiraram a nota {agrupamento}\")\n",
    "print()"
   ]
  },
  {
   "cell_type": "code",
   "execution_count": null,
   "metadata": {},
   "outputs": [],
   "source": []
  }
 ]
}