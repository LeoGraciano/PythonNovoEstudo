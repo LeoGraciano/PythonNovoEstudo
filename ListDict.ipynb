{
 "metadata": {
  "language_info": {
   "codemirror_mode": {
    "name": "ipython",
    "version": 3
   },
   "file_extension": ".py",
   "mimetype": "text/x-python",
   "name": "python",
   "nbconvert_exporter": "python",
   "pygments_lexer": "ipython3",
   "version": "3.8.5-final"
  },
  "orig_nbformat": 2,
  "kernelspec": {
   "name": "python3",
   "display_name": "Python 3",
   "language": "python"
  }
 },
 "nbformat": 4,
 "nbformat_minor": 2,
 "cells": [
  {
   "cell_type": "code",
   "execution_count": 1,
   "metadata": {},
   "outputs": [
    {
     "output_type": "error",
     "ename": "SyntaxError",
     "evalue": "invalid syntax (<ipython-input-1-f6de7663b58a>, line 3)",
     "traceback": [
      "\u001b[0;36m  File \u001b[0;32m\"<ipython-input-1-f6de7663b58a>\"\u001b[0;36m, line \u001b[0;32m3\u001b[0m\n\u001b[0;31m    {'nome': Luiz,\"nota\":\"A\"}\u001b[0m\n\u001b[0m    ^\u001b[0m\n\u001b[0;31mSyntaxError\u001b[0m\u001b[0;31m:\u001b[0m invalid syntax\n"
     ]
    }
   ],
   "source": [
    "from itertools import groupby\n",
    "\n",
    "aluno = [\n",
    "    {'nome': \"Leonardo\",\"nota\":\"A\"}\n",
    "    {'nome': \"Jessica\",\"nota\":\"B\"}\n",
    "    {'nome': \"Luiz\",\"nota\":\"D\"}\n",
    "    {'nome': \"Fernando\",\"nota\":\"C\"}\n",
    "    {'nome': \"Maria\",\"nota\":\"A\"}\n",
    "    {'nome': \"João\",\"nota\":\"C\"}\n",
    "    {'nome': \"Paulo\",\"nota\":\"B\"}\n",
    "    {'nome': \"Juliana\",\"nota\":\"B\"}\n",
    "]"
   ]
  }
 ]
}