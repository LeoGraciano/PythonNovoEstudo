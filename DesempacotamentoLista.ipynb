{
 "metadata": {
  "language_info": {
   "codemirror_mode": {
    "name": "ipython",
    "version": 3
   },
   "file_extension": ".py",
   "mimetype": "text/x-python",
   "name": "python",
   "nbconvert_exporter": "python",
   "pygments_lexer": "ipython3",
   "version": "3.8.5-final"
  },
  "orig_nbformat": 2,
  "kernelspec": {
   "name": "python38564bitvenve93d31116f494107b1694a7b3facd7c6",
   "display_name": "Python 3.8.5 64-bit ('venv')"
  }
 },
 "nbformat": 4,
 "nbformat_minor": 2,
 "cells": [
  {
   "cell_type": "code",
   "execution_count": 1,
   "metadata": {},
   "outputs": [
    {
     "output_type": "stream",
     "name": "stdout",
     "text": [
      "luiz João Maria\n"
     ]
    }
   ],
   "source": [
    "lista = ['Luiz','João','Maria']\n",
    "\n",
    "n1, n2,n3 = lista\n",
    "\n",
    "print(n1,n2,n3)"
   ]
  },
  {
   "cell_type": "code",
   "execution_count": 5,
   "metadata": {},
   "outputs": [
    {
     "output_type": "stream",
     "name": "stdout",
     "text": [
      "Luiz João Maria\n[1, 2, 3, 4, 5, 6, 7, 8, 9]\n100\n"
     ]
    }
   ],
   "source": [
    "lista = ['Luiz','João','Maria',1,2,3,4,5,6,7,8,9,100]\n",
    "n1, n2,n3,*outra_lista, ultimo_da_lista = lista\n",
    "\n",
    "print(n1,n2,n3)\n",
    "print(outra_lista)\n",
    "print(ultimo_da_lista)"
   ]
  },
  {
   "cell_type": "code",
   "execution_count": null,
   "metadata": {},
   "outputs": [],
   "source": []
  }
 ]
}