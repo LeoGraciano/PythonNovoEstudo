{
 "metadata": {
  "language_info": {
   "codemirror_mode": {
    "name": "ipython",
    "version": 3
   },
   "file_extension": ".py",
   "mimetype": "text/x-python",
   "name": "python",
   "nbconvert_exporter": "python",
   "pygments_lexer": "ipython3",
   "version": "3.8.5-final"
  },
  "orig_nbformat": 2,
  "kernelspec": {
   "name": "python3",
   "display_name": "Python 3",
   "language": "python"
  }
 },
 "nbformat": 4,
 "nbformat_minor": 2,
 "cells": [
  {
   "cell_type": "code",
   "execution_count": 1,
   "metadata": {},
   "outputs": [],
   "source": [
    "\"\"\"\n",
    "Combinations, Permutations e Product - IterTools\n",
    "\n",
    "Combinations - Ordem não importa e não repete Posições invertidas (A:B) x (B:A).\n",
    "Permutação - Ordem Importam, mas repete combinações em ordem diferentes.(A:B) e (B:A)\n",
    "#Ambos não repetem valores unicos\n",
    "\n",
    "Produto - Ordem importa e rete Valores únicos\n",
    "\"\"\"\n",
    "from itertools import combinations,permutations,product\n"
   ]
  },
  {
   "cell_type": "code",
   "execution_count": 6,
   "metadata": {},
   "outputs": [
    {
     "output_type": "stream",
     "name": "stdout",
     "text": [
      "('Leonardo', 'Jessica')\n('Leonardo', 'Maria')\n('Leonardo', 'João')\n('Leonardo', 'Francisco')\n('Leonardo', 'Paulo')\n('Jessica', 'Maria')\n('Jessica', 'João')\n('Jessica', 'Francisco')\n('Jessica', 'Paulo')\n('Maria', 'João')\n('Maria', 'Francisco')\n('Maria', 'Paulo')\n('João', 'Francisco')\n('João', 'Paulo')\n('Francisco', 'Paulo')\n"
     ]
    }
   ],
   "source": [
    "pessoas = [\"Leonardo\",\"Jessica\",\"Maria\",\"João\",\"Francisco\",\"Paulo\"]\n",
    "\n",
    "for grupo in combinations(pessoas,2):\n",
    "    print(grupo)"
   ]
  },
  {
   "cell_type": "code",
   "execution_count": 7,
   "metadata": {},
   "outputs": [
    {
     "output_type": "stream",
     "name": "stdout",
     "text": [
      "('Leonardo', 'Jessica')\n('Leonardo', 'Maria')\n('Leonardo', 'João')\n('Leonardo', 'Francisco')\n('Leonardo', 'Paulo')\n('Jessica', 'Leonardo')\n('Jessica', 'Maria')\n('Jessica', 'João')\n('Jessica', 'Francisco')\n('Jessica', 'Paulo')\n('Maria', 'Leonardo')\n('Maria', 'Jessica')\n('Maria', 'João')\n('Maria', 'Francisco')\n('Maria', 'Paulo')\n('João', 'Leonardo')\n('João', 'Jessica')\n('João', 'Maria')\n('João', 'Francisco')\n('João', 'Paulo')\n('Francisco', 'Leonardo')\n('Francisco', 'Jessica')\n('Francisco', 'Maria')\n('Francisco', 'João')\n('Francisco', 'Paulo')\n('Paulo', 'Leonardo')\n('Paulo', 'Jessica')\n('Paulo', 'Maria')\n('Paulo', 'João')\n('Paulo', 'Francisco')\n"
     ]
    }
   ],
   "source": [
    "pessoas = [\"Leonardo\",\"Jessica\",\"Maria\",\"João\",\"Francisco\",\"Paulo\"]\n",
    "\n",
    "for grupo in permutations(pessoas,2):\n",
    "    print(grupo)"
   ]
  },
  {
   "cell_type": "code",
   "execution_count": 12,
   "metadata": {},
   "outputs": [
    {
     "output_type": "stream",
     "name": "stdout",
     "text": [
      "('Leonardo', 'Leonardo')\n('Leonardo', 'Jessica')\n('Leonardo', 'Maria')\n('Leonardo', 'João')\n('Leonardo', 'Francisco')\n('Leonardo', 'Paulo')\n('Jessica', 'Leonardo')\n('Jessica', 'Jessica')\n('Jessica', 'Maria')\n('Jessica', 'João')\n('Jessica', 'Francisco')\n('Jessica', 'Paulo')\n('Maria', 'Leonardo')\n('Maria', 'Jessica')\n('Maria', 'Maria')\n('Maria', 'João')\n('Maria', 'Francisco')\n('Maria', 'Paulo')\n('João', 'Leonardo')\n('João', 'Jessica')\n('João', 'Maria')\n('João', 'João')\n('João', 'Francisco')\n('João', 'Paulo')\n('Francisco', 'Leonardo')\n('Francisco', 'Jessica')\n('Francisco', 'Maria')\n('Francisco', 'João')\n('Francisco', 'Francisco')\n('Francisco', 'Paulo')\n('Paulo', 'Leonardo')\n('Paulo', 'Jessica')\n('Paulo', 'Maria')\n('Paulo', 'João')\n('Paulo', 'Francisco')\n('Paulo', 'Paulo')\n"
     ]
    }
   ],
   "source": [
    "oas = [\"Leonardo\",\"Jessica\",\"Maria\",\"João\",\"Francisco\",\"Paulo\"]\n",
    "#necessário coloca \"repeat\" para indicar valor do arumento.\n",
    "for grupo in product(pessoas,repeat=2):\n",
    "    print(grupo)"
   ]
  },
  {
   "cell_type": "code",
   "execution_count": null,
   "metadata": {},
   "outputs": [],
   "source": []
  }
 ]
}