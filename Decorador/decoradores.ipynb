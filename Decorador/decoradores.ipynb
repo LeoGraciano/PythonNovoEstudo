{
 "metadata": {
  "language_info": {
   "codemirror_mode": {
    "name": "ipython",
    "version": 3
   },
   "file_extension": ".py",
   "mimetype": "text/x-python",
   "name": "python",
   "nbconvert_exporter": "python",
   "pygments_lexer": "ipython3",
   "version": "3.8.5"
  },
  "orig_nbformat": 4,
  "kernelspec": {
   "name": "python385jvsc74a57bd0770922fd839f673519e24f36f480bad8bd63c3c6fb6a376361ac209eaea1d4eb",
   "display_name": "Python 3.8.5 64-bit ('venv': venv)",
   "language": "python"
  }
 },
 "nbformat": 4,
 "nbformat_minor": 2,
 "cells": [
  {
   "cell_type": "code",
   "execution_count": 9,
   "metadata": {},
   "outputs": [],
   "source": [
    "def master():\n",
    "    def slave(): #TODO: uma função escrava dentro de uma função\n",
    "        print('Olá, Mundo!!')\n",
    "    return slave # retorna a função slave sem executar ()\n",
    "    "
   ]
  },
  {
   "cell_type": "code",
   "execution_count": 10,
   "metadata": {},
   "outputs": [
    {
     "output_type": "stream",
     "name": "stdout",
     "text": [
      "Olá, Mundo!!\n"
     ]
    }
   ],
   "source": [
    "master()"
   ]
  },
  {
   "cell_type": "code",
   "execution_count": 12,
   "metadata": {},
   "outputs": [
    {
     "output_type": "stream",
     "name": "stdout",
     "text": [
      "Oi\n"
     ]
    }
   ],
   "source": [
    "def master_2(func):\n",
    "    def slave():\n",
    "        func()\n",
    "    return slave\n",
    "\n",
    "def fala_oi():\n",
    "    print('Oi')\n",
    "\n",
    "var_oi = master_2(fala_oi)\n",
    "var_oi()"
   ]
  },
  {
   "cell_type": "code",
   "execution_count": 15,
   "metadata": {},
   "outputs": [
    {
     "output_type": "stream",
     "name": "stdout",
     "text": [
      "Estou Decorada\nOla, Leonardo\n"
     ]
    }
   ],
   "source": [
    "def master_3(func):\n",
    "    def slave(*args,**kwags):\n",
    "        print('Estou Decorada')\n",
    "        func(*args,**kwags)\n",
    "    return slave\n",
    "\n",
    "@master_3\n",
    "def fala_oi():\n",
    "    print('Oi')\n",
    "\n",
    "@master_3\n",
    "def outra_funcao(msg):\n",
    "    print(msg)\n",
    "\n",
    "outra_funcao('Ola, Leonardo')\n"
   ]
  },
  {
   "cell_type": "code",
   "execution_count": 31,
   "metadata": {},
   "outputs": [
    {
     "output_type": "stream",
     "name": "stdout",
     "text": [
      "\nA funcao \"demora\" levou 0.04\n"
     ]
    }
   ],
   "source": [
    "from time import time,sleep\n",
    "from random import randrange\n",
    "\n",
    "def velocidade(fun):\n",
    "    def slave(*args,**kwargs):\n",
    "        start = time()\n",
    "        result = fun(*args,**kwargs)\n",
    "        tempo = time() - start\n",
    "        print(f'\\nA funçao \\\"{fun.__name__}\\\" levou {tempo:.2f}')\n",
    "        return result\n",
    "    return slave\n",
    "\n",
    "@velocidade\n",
    "def demora():\n",
    "    \n",
    "    for i in range(0,1000000):\n",
    "        pass\n",
    "\n",
    "demora()"
   ]
  },
  {
   "cell_type": "code",
   "execution_count": null,
   "metadata": {},
   "outputs": [],
   "source": []
  }
 ]
}