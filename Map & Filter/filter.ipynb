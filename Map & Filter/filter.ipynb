{
 "metadata": {
  "language_info": {
   "codemirror_mode": {
    "name": "ipython",
    "version": 3
   },
   "file_extension": ".py",
   "mimetype": "text/x-python",
   "name": "python",
   "nbconvert_exporter": "python",
   "pygments_lexer": "ipython3",
   "version": "3.8.5-final"
  },
  "orig_nbformat": 2,
  "kernelspec": {
   "name": "python3",
   "display_name": "Python 3",
   "language": "python"
  }
 },
 "nbformat": 4,
 "nbformat_minor": 2,
 "cells": [
  {
   "cell_type": "code",
   "execution_count": 3,
   "metadata": {},
   "outputs": [
    {
     "output_type": "stream",
     "name": "stdout",
     "text": [
      "[6, 7, 8, 9, 10]\n"
     ]
    }
   ],
   "source": [
    "from dados import produtos,pessoas, lista\n",
    "\n",
    "#usando filter\n",
    "nova_lista = filter(lambda x: x > 5,lista)\n",
    "print(list(nova_lista))"
   ]
  },
  {
   "cell_type": "code",
   "execution_count": 4,
   "metadata": {},
   "outputs": [
    {
     "output_type": "stream",
     "name": "stdout",
     "text": [
      "[6, 7, 8, 9, 10]\n"
     ]
    }
   ],
   "source": [
    "from dados import produtos,pessoas, lista\n",
    "\n",
    "#usando compenranger\n",
    "nova_lista = [x for x in lista if x >5]\n",
    "print(list(nova_lista))"
   ]
  },
  {
   "cell_type": "code",
   "execution_count": 12,
   "metadata": {},
   "outputs": [
    {
     "output_type": "stream",
     "name": "stdout",
     "text": [
      "{'nome': 'p3', 'preço': 25}\n{'nome': 'p4', 'preço': 19}\n{'nome': 'p5', 'preço': 13.9}\n{'nome': 'p7', 'preço': 30}\n{'nome': 'p8', 'preço': 20}\n"
     ]
    }
   ],
   "source": [
    "from dados import produtos,pessoas, lista\n",
    "\n",
    "#usando filter\n",
    "#lambda só representa uma função que não quis criar e não vai ser reutilizada.\n",
    "novos_produtos = filter(lambda p: p['preço'] > 13, produtos)\n",
    "\n",
    "for d in novos_produtos:\n",
    "    print(d)\n"
   ]
  },
  {
   "cell_type": "code",
   "execution_count": null,
   "metadata": {},
   "outputs": [],
   "source": []
  },
  {
   "cell_type": "code",
   "execution_count": null,
   "metadata": {},
   "outputs": [],
   "source": []
  }
 ]
}