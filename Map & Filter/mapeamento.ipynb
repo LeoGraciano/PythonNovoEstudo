{
 "metadata": {
  "language_info": {
   "codemirror_mode": {
    "name": "ipython",
    "version": 3
   },
   "file_extension": ".py",
   "mimetype": "text/x-python",
   "name": "python",
   "nbconvert_exporter": "python",
   "pygments_lexer": "ipython3",
   "version": "3.8.5-final"
  },
  "orig_nbformat": 2,
  "kernelspec": {
   "name": "python3",
   "display_name": "Python 3",
   "language": "python"
  }
 },
 "nbformat": 4,
 "nbformat_minor": 2,
 "cells": [
  {
   "cell_type": "code",
   "execution_count": null,
   "metadata": {},
   "outputs": [],
   "source": [
    "from dados import produtos,pessoas, lista\n",
    "\n",
    "#usando a função MAP que tem no python de padrão para interagir.\n",
    "nova_lista = map(lambda x: x * 2, lista)\n",
    "print(lista)\n",
    "print(list(nova_lista))"
   ]
  },
  {
   "cell_type": "code",
   "execution_count": null,
   "metadata": {},
   "outputs": [],
   "source": [
    "from dados import produtos,pessoas, lista\n",
    "\n",
    "#utilizando a função compenragem para fazer a mesma interação\n",
    "nova_lista = [x*2 for x in lista]\n",
    "print(lista)\n",
    "print(list(nova_lista))"
   ]
  },
  {
   "cell_type": "code",
   "execution_count": null,
   "metadata": {},
   "outputs": [],
   "source": [
    "from dados import produtos,pessoas, lista\n",
    "\n",
    "#usando Map para trablahar Dicionário para ser mais simples.\n",
    "#lambda é repretanda por uma função que não criamos.\n",
    "preços = map(lambda p: p['preço'],produtos)\n",
    "\n",
    "print(list(preços))\n"
   ]
  },
  {
   "cell_type": "code",
   "execution_count": null,
   "metadata": {},
   "outputs": [],
   "source": [
    "from dados import produtos,pessoas, lista\n",
    "\n",
    "#round é usando para arredondar os as casa decimais do floot\n",
    "def aumentar_preços(p):\n",
    "    p['preço'] = round(p['preço']*1.05, 2)\n",
    "    return p\n",
    "\n",
    "#usando Map para trablahar Dicionário para ser mais simples.\n",
    "novos_dados = map(aumentar_preços, produtos)\n",
    "\n",
    "\n",
    "for d in novos_dados:\n",
    "    print(d)\n",
    "\n"
   ]
  },
  {
   "cell_type": "code",
   "execution_count": 21,
   "metadata": {},
   "outputs": [
    {
     "output_type": "stream",
     "name": "stdout",
     "text": [
      "{'nome': 'Leonardo', 'idade': 35, 'nova_idade': 42}\n{'nome': 'Jessica', 'idade': 28, 'nova_idade': 34}\n{'nome': 'Paulo', 'idade': 27, 'nova_idade': 32}\n{'nome': 'Cida', 'idade': 55, 'nova_idade': 66}\n{'nome': 'Maria', 'idade': 20, 'nova_idade': 24}\n{'nome': 'João', 'idade': 25, 'nova_idade': 30}\n{'nome': 'Pedro', 'idade': 27, 'nova_idade': 32}\n{'nome': 'Felipe', 'idade': 39, 'nova_idade': 47}\n{'nome': 'Ana', 'idade': 20, 'nova_idade': 24}\n{'nome': 'Thiago', 'idade': 16, 'nova_idade': 19}\n"
     ]
    }
   ],
   "source": [
    "from dados import produtos,pessoas, lista\n",
    "\n",
    "def aumenta_idade(p):\n",
    "    p['nova_idade'] = round(p['idade'] * 1.20)\n",
    "    return p\n",
    "\n",
    "nomes = map(aumenta_idade,pessoas)\n",
    "\n",
    "for n in nomes:\n",
    "    print(n)"
   ]
  },
  {
   "cell_type": "code",
   "execution_count": null,
   "metadata": {},
   "outputs": [],
   "source": []
  }
 ]
}