{
 "metadata": {
  "language_info": {
   "codemirror_mode": {
    "name": "ipython",
    "version": 3
   },
   "file_extension": ".py",
   "mimetype": "text/x-python",
   "name": "python",
   "nbconvert_exporter": "python",
   "pygments_lexer": "ipython3",
   "version": "3.8.5"
  },
  "orig_nbformat": 2,
  "kernelspec": {
   "name": "python385jvsc74a57bd031f2aee4e71d21fbe5cf8b01ff0e069b9275f58929596ceb00d14d90e3e16cd6",
   "display_name": "Python 3.8.5 64-bit"
  },
  "metadata": {
   "interpreter": {
    "hash": "31f2aee4e71d21fbe5cf8b01ff0e069b9275f58929596ceb00d14d90e3e16cd6"
   }
  }
 },
 "nbformat": 4,
 "nbformat_minor": 2,
 "cells": [
  {
   "cell_type": "code",
   "execution_count": 1,
   "metadata": {},
   "outputs": [
    {
     "output_type": "stream",
     "name": "stdout",
     "text": [
      "[6, 7, 8, 9, 10]\n"
     ]
    }
   ],
   "source": [
    "from dados import produtos,pessoas, lista\n",
    "\n",
    "#usando filter\n",
    "nova_lista = filter(lambda x: x > 5,lista)\n",
    "print(list(nova_lista))"
   ]
  },
  {
   "cell_type": "code",
   "execution_count": 4,
   "metadata": {},
   "outputs": [
    {
     "output_type": "stream",
     "name": "stdout",
     "text": [
      "[6, 7, 8, 9, 10]\n"
     ]
    }
   ],
   "source": [
    "from dados import produtos,pessoas, lista\n",
    "\n",
    "#usando compenranger\n",
    "nova_lista = [x for x in lista if x >5]\n",
    "print(list(nova_lista))"
   ]
  },
  {
   "cell_type": "code",
   "execution_count": 12,
   "metadata": {},
   "outputs": [
    {
     "output_type": "stream",
     "name": "stdout",
     "text": [
      "{'nome': 'p3', 'preço': 25}\n{'nome': 'p4', 'preço': 19}\n{'nome': 'p5', 'preço': 13.9}\n{'nome': 'p7', 'preço': 30}\n{'nome': 'p8', 'preço': 20}\n"
     ]
    }
   ],
   "source": [
    "from dados import produtos,pessoas, lista\n",
    "\n",
    "#usando filter\n",
    "#lambda só representa uma função que não quis criar e não vai ser reutilizada.\n",
    "novos_produtos = filter(lambda p: p['preço'] > 13, produtos)\n",
    "\n",
    "for d in novos_produtos:\n",
    "    print(d)\n"
   ]
  },
  {
   "cell_type": "code",
   "execution_count": 5,
   "metadata": {},
   "outputs": [
    {
     "output_type": "stream",
     "name": "stdout",
     "text": [
      "{'nome': 'p1', 'preço': 13}\n{'nome': 'p2', 'preço': 1}\n{'nome': 'p3', 'preço': 25}\n{'nome': 'p4', 'preço': 19}\n{'nome': 'p5', 'preço': 13.9}\n{'nome': 'p6', 'preço': 5}\n{'nome': 'p7', 'preço': 30}\n{'nome': 'p8', 'preço': 20}\n{'nome': 'p9', 'preço': 10}\n{'nome': 'p10', 'preço': 8}\n"
     ]
    }
   ],
   "source": [
    "from dados import produtos,pessoas, lista\n",
    "\n",
    "def filtra(produtos):\n",
    "    if not produtos['preço'] > 50:\n",
    "        return True\n",
    "\n",
    "nova_lista = filter(filtra, produtos)\n",
    "\n",
    "for produto in nova_lista:\n",
    "    print(produto)\n"
   ]
  },
  {
   "cell_type": "code",
   "execution_count": 6,
   "metadata": {},
   "outputs": [
    {
     "output_type": "stream",
     "name": "stdout",
     "text": [
      "{'nome': 'Thiago', 'idade': 16}\n"
     ]
    }
   ],
   "source": [
    "from dados import produtos,pessoas, lista\n",
    "\n",
    "def filtra(pessoa):\n",
    "    if pessoa['idade'] < 18:\n",
    "        return True\n",
    "\n",
    "nova_lista = filter(filtra,pessoas)\n",
    "\n",
    "for pessoa in nova_lista:\n",
    "    print(pessoa)"
   ]
  }
 ]
}