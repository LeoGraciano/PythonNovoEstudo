{
 "metadata": {
  "language_info": {
   "codemirror_mode": {
    "name": "ipython",
    "version": 3
   },
   "file_extension": ".py",
   "mimetype": "text/x-python",
   "name": "python",
   "nbconvert_exporter": "python",
   "pygments_lexer": "ipython3",
   "version": "3.8.5-final"
  },
  "orig_nbformat": 2,
  "kernelspec": {
   "name": "python3",
   "display_name": "Python 3.8.5 64-bit ('django-siteead-DVDnMrj6-py3.8': venv)",
   "metadata": {
    "interpreter": {
     "hash": "bf048aecc7fa0b9d9183ba2ae95dae32691173bea9f177f16104e01cc7f7c4e2"
    }
   }
  }
 },
 "nbformat": 4,
 "nbformat_minor": 2,
 "cells": [
  {
   "cell_type": "code",
   "execution_count": 2,
   "metadata": {},
   "outputs": [
    {
     "output_type": "stream",
     "name": "stdout",
     "text": [
      "[('SP', 'São Paulo'), ('MG', 'Belo Horizonte'), ('BA', 'Salvador')]\n"
     ]
    }
   ],
   "source": [
    "'''\n",
    "    zip - Unindo interáveis\n",
    "    zip_logest - intertools\n",
    "'''\n",
    "\n",
    "# codigo\n",
    "cidades = ['São Paulo', 'Belo Horizonte', 'Salvador', 'Monte Belo']\n",
    "\n",
    "estados = ['SP', 'MG', 'BA']\n",
    "\n",
    "cidades_estados = zip(estados, cidades)\n",
    "print(list(cidades_estados))\n"
   ]
  },
  {
   "cell_type": "code",
   "execution_count": null,
   "metadata": {},
   "outputs": [],
   "source": [
    "from itertools importo zip_longest"
   ]
  }
 ]
}