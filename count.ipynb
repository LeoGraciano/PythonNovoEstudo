{
 "metadata": {
  "language_info": {
   "codemirror_mode": {
    "name": "ipython",
    "version": 3
   },
   "file_extension": ".py",
   "mimetype": "text/x-python",
   "name": "python",
   "nbconvert_exporter": "python",
   "pygments_lexer": "ipython3",
   "version": "3.8.5-final"
  },
  "orig_nbformat": 2,
  "kernelspec": {
   "name": "python3",
   "display_name": "Python 3",
   "language": "python"
  }
 },
 "nbformat": 4,
 "nbformat_minor": 2,
 "cells": [
  {
   "cell_type": "code",
   "execution_count": 2,
   "metadata": {},
   "outputs": [
    {
     "output_type": "stream",
     "name": "stdout",
     "text": [
      "[('a', 'A'), ('l', 'l'), ('o', 'o')]\n"
     ]
    }
   ],
   "source": [
    "\"\"\"\n",
    "Count - Intertools\n",
    "\"\"\"\n",
    "variavel = zip(\"alo\",\"Alo\")\n",
    "print(list(variavel))"
   ]
  },
  {
   "cell_type": "code",
   "execution_count": 5,
   "metadata": {},
   "outputs": [
    {
     "output_type": "stream",
     "name": "stdout",
     "text": [
      "False\n<zip object at 0x7fa539762fc0>\n"
     ]
    }
   ],
   "source": [
    "from types import GeneratorType\n",
    "\n",
    "variavel = zip(\"Alo\",\"Alo\")\n",
    "print(isinstance(variavel,GeneratorType))\n",
    "print(variavel)"
   ]
  },
  {
   "cell_type": "code",
   "execution_count": 6,
   "metadata": {},
   "outputs": [
    {
     "output_type": "stream",
     "name": "stdout",
     "text": [
      "True\n<generator object <genexpr> at 0x7fa5397e9350>\n"
     ]
    }
   ],
   "source": [
    "from types import GeneratorType\n",
    "\n",
    "variavel = ((x,y) for x,y in zip(\"Alo\",\"Alo\"))\n",
    "print(isinstance(variavel,GeneratorType))\n",
    "print(variavel)"
   ]
  },
  {
   "cell_type": "code",
   "execution_count": 11,
   "metadata": {},
   "outputs": [
    {
     "output_type": "stream",
     "name": "stdout",
     "text": [
      "0\n1\n2\n3\n4\n5\n"
     ]
    }
   ],
   "source": [
    "from itertools import count\n",
    "\n",
    "contador = count()\n",
    "\n",
    "print(next(contador))\n",
    "print(next(contador))\n",
    "print(next(contador))\n",
    "print(next(contador))\n",
    "print(next(contador))\n",
    "print(next(contador))\n"
   ]
  },
  {
   "cell_type": "code",
   "execution_count": 12,
   "metadata": {
    "tags": [
     "outputPrepend"
    ]
   },
   "outputs": [
    {
     "output_type": "error",
     "ename": "Error",
     "evalue": "Pip module Unable to parse debugpy output, please log an issue with https://github.com/microsoft/vscode-jupyter is required for debugging cells. You will need to install it to debug cells.",
     "traceback": [
      "Error: Pip module Unable to parse debugpy output, please log an issue with https://github.com/microsoft/vscode-jupyter is required for debugging cells. You will need to install it to debug cells.",
      "at b.parseConnectInfo (/home/leograciano/.vscode-server/extensions/ms-toolsai.jupyter-2020.12.414227025/out/client/extension.js:49:486311)",
      "at b.connectToLocal (/home/leograciano/.vscode-server/extensions/ms-toolsai.jupyter-2020.12.414227025/out/client/extension.js:49:486838)",
      "at b.connect (/home/leograciano/.vscode-server/extensions/ms-toolsai.jupyter-2020.12.414227025/out/client/extension.js:49:484715)",
      "at b.startDebugSession (/home/leograciano/.vscode-server/extensions/ms-toolsai.jupyter-2020.12.414227025/out/client/extension.js:49:483862)",
      "at f.submitCode (/home/leograciano/.vscode-server/extensions/ms-toolsai.jupyter-2020.12.414227025/out/client/extension.js:32:585464)",
      "at f.handleRunByLine (/home/leograciano/.vscode-server/extensions/ms-toolsai.jupyter-2020.12.414227025/out/client/extension.js:9:173871)"
     ]
    }
   ],
   "source": [
    "from itertools import count\n",
    "\n",
    "contador = count()\n",
    "\n",
    "for valor in contador:\n",
    "    print(valor)\n",
    "\n",
    "    if value > 1000:\n",
    "        break"
   ]
  },
  {
   "cell_type": "code",
   "execution_count": 5,
   "metadata": {},
   "outputs": [
    {
     "output_type": "error",
     "ename": "SyntaxError",
     "evalue": "unexpected character after line continuation character (<ipython-input-5-8d75a15d3197>, line 6)",
     "traceback": [
      "\u001b[0;36m  File \u001b[0;32m\"<ipython-input-5-8d75a15d3197>\"\u001b[0;36m, line \u001b[0;32m6\u001b[0m\n\u001b[0;31m    print(round(valor,2 )\\n)\u001b[0m\n\u001b[0m                            ^\u001b[0m\n\u001b[0;31mSyntaxError\u001b[0m\u001b[0;31m:\u001b[0m unexpected character after line continuation character\n"
     ]
    }
   ],
   "source": [
    "from itertools import count\n",
    "\n",
    "contador = count(start=5, step=0.1)\n",
    "\n",
    "for valor in contador:\n",
    "    print(round(valor,2))\n",
    "\n",
    "    if valor >= 10:\n",
    "        break"
   ]
  },
  {
   "cell_type": "code",
   "execution_count": 1,
   "metadata": {},
   "outputs": [
    {
     "output_type": "stream",
     "name": "stdout",
     "text": [
      "[(0, 'Luiz'), (1, 'João'), (2, 'Maria'), (3, 'Leonardo'), (4, 'Jessica')]\n"
     ]
    }
   ],
   "source": [
    "from itertools import count\n",
    "\n",
    "contador = count()\n",
    "lista = ['Luiz',\"João\",\"Maria\",\"Leonardo\",\"Jessica\"]\n",
    "print(list(zip(contador,lista)))"
   ]
  },
  {
   "cell_type": "code",
   "execution_count": null,
   "metadata": {},
   "outputs": [],
   "source": []
  }
 ]
}